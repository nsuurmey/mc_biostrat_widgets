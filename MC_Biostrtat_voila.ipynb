{
 "cells": [
  {
   "cell_type": "markdown",
   "metadata": {},
   "source": [
    "# Mississippi Canyon Protraction Biostratigraphy Heatmap\n",
    "\n",
    "_Select an age to see the density of wells with biostratigraphic picks of that age._\n",
    "\n",
    "Data from the U.S. BOEM"
   ]
  },
  {
   "cell_type": "code",
   "execution_count": null,
   "metadata": {},
   "outputs": [],
   "source": [
    "from __future__ import print_function\n",
    "from IPython.display import display\n",
    "from ipywidgets import *\n",
    "# from traitlets import *\n",
    "\n",
    "import numpy as np\n",
    "import pandas as pd\n",
    "# import bqplot as bq\n",
    "\n",
    "from ipyleaflet import Map, basemaps, WidgetControl, Heatmap\n"
   ]
  },
  {
   "cell_type": "code",
   "execution_count": null,
   "metadata": {},
   "outputs": [],
   "source": [
    "df = pd.read_csv('../data/MC_bugs.csv')\n",
    "df = df.dropna()"
   ]
  },
  {
   "cell_type": "code",
   "execution_count": null,
   "metadata": {},
   "outputs": [],
   "source": [
    "def get_data(age_ma):\n",
    "    locationsw = df.loc[df['Age_MA'] == age_ma]\n",
    "    return locationsw[['Lat', 'Long']].values.tolist()"
   ]
  },
  {
   "cell_type": "code",
   "execution_count": null,
   "metadata": {},
   "outputs": [],
   "source": [
    "m = Map(center=(28.46638886508, -88.85057579029998), zoom=8)\n",
    "\n",
    "ages = list(df.Age_MA.unique())\n",
    "ages.sort()\n",
    "\n",
    "initial_age = 1.8\n",
    "\n",
    "age_dropdown = Dropdown(options=ages, value=1.8, description='Age MYA', disabled=False,)\n",
    "\n",
    "heatmap = Heatmap(locations=get_data(initial_age), min_opacity=0.6, radius=10)\n",
    "\n",
    "m.add_layer(heatmap);"
   ]
  },
  {
   "cell_type": "code",
   "execution_count": null,
   "metadata": {},
   "outputs": [],
   "source": [
    "def time_change(change):\n",
    "    heatmap.locations = get_data(age_dropdown.value)\n",
    "    \n",
    "age_dropdown.observe(time_change, 'value')\n",
    "\n",
    "VBox([age_dropdown, m])"
   ]
  },
  {
   "cell_type": "code",
   "execution_count": null,
   "metadata": {},
   "outputs": [],
   "source": []
  }
 ],
 "metadata": {
  "kernelspec": {
   "display_name": "Python 3",
   "language": "python",
   "name": "python3"
  },
  "language_info": {
   "codemirror_mode": {
    "name": "ipython",
    "version": 3
   },
   "file_extension": ".py",
   "mimetype": "text/x-python",
   "name": "python",
   "nbconvert_exporter": "python",
   "pygments_lexer": "ipython3",
   "version": "3.7.3"
  }
 },
 "nbformat": 4,
 "nbformat_minor": 4
}
